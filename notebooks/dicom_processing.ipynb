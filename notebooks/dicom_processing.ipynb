{
 "cells": [
  {
   "cell_type": "markdown",
   "id": "6dccd0ab",
   "metadata": {},
   "source": [
    "# Dicom Pre-Processing"
   ]
  },
  {
   "cell_type": "markdown",
   "id": "6ef497a2",
   "metadata": {},
   "source": [
    "The sources used to process the data:\n",
    "- [Source 1](https://www.kaggle.com/code/gzuidhof/full-preprocessing-tutorial)\n",
    "- [Source 2](https://www.kaggle.com/code/allunia/pulmonary-dicom-preprocessing)\n",
    "- [Source 3](https://github.com/theodapamede/dicom_preprocessing/blob/main/embed_data_preprocessing/embed_data_preprocessing.ipynb)\n"
   ]
  },
  {
   "cell_type": "code",
   "execution_count": null,
   "id": "91441cac",
   "metadata": {
    "vscode": {
     "languageId": "plaintext"
    }
   },
   "outputs": [],
   "source": []
  },
  {
   "cell_type": "markdown",
   "id": "3d937e61",
   "metadata": {},
   "source": []
  }
 ],
 "metadata": {
  "language_info": {
   "name": "python"
  }
 },
 "nbformat": 4,
 "nbformat_minor": 5
}
