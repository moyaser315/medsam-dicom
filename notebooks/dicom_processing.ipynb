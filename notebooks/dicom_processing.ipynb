{
 "cells": [
  {
   "cell_type": "markdown",
   "id": "6dccd0ab",
   "metadata": {},
   "source": [
    "# Dicom Pre-Processing"
   ]
  },
  {
   "cell_type": "markdown",
   "id": "6ef497a2",
   "metadata": {},
   "source": [
    "The sources used to process the data:\n",
    "- [Source 1](https://www.kaggle.com/code/gzuidhof/full-preprocessing-tutorial)\n",
    "- [Source 2](https://www.kaggle.com/code/allunia/pulmonary-dicom-preprocessing)\n",
    "- [Source 3](https://github.com/theodapamede/dicom_preprocessing/blob/main/embed_data_preprocessing/embed_data_preprocessing.ipynb)\n"
   ]
  },
  {
   "cell_type": "code",
   "execution_count": 13,
   "id": "91441cac",
   "metadata": {},
   "outputs": [],
   "source": [
    "import pydicom\n",
    "import numpy as np\n",
    "import matplotlib.pyplot as plt\n",
    "import glob\n",
    "import seaborn as sns"
   ]
  },
  {
   "cell_type": "markdown",
   "id": "3d937e61",
   "metadata": {},
   "source": [
    "Read Files"
   ]
  },
  {
   "cell_type": "code",
   "execution_count": null,
   "id": "44f0be94",
   "metadata": {},
   "outputs": [],
   "source": [
    "def read_dicom(folder_path) -> list[pydicom.FileDataset]:\n",
    "    dicom_list = glob.glob(f\"{folder_path}/*.dcm\")\n",
    "    dicom_list.sort()\n",
    "    dicom_files = []\n",
    "    for file in dicom_list:\n",
    "        dicom_files.append(pydicom.dcmread(file))\n",
    "    return dicom_files\n",
    "    "
   ]
  },
  {
   "cell_type": "code",
   "execution_count": 3,
   "id": "ba15ad7b",
   "metadata": {},
   "outputs": [],
   "source": [
    "files = read_dicom(\"../data/raw\")"
   ]
  },
  {
   "cell_type": "code",
   "execution_count": 5,
   "id": "f5cb2b51",
   "metadata": {},
   "outputs": [
    {
     "name": "stdout",
     "output_type": "stream",
     "text": [
      "626\n",
      "Dataset.file_meta -------------------------------\n",
      "(0002,0000) File Meta Information Group Length  UL: 198\n",
      "(0002,0001) File Meta Information Version       OB: b'\\x00\\x01'\n",
      "(0002,0002) Media Storage SOP Class UID         UI: CT Image Storage\n",
      "(0002,0003) Media Storage SOP Instance UID      UI: 1.2.276.0.7230010.3.1.4.296485632.1.1731597629.926147\n",
      "(0002,0010) Transfer Syntax UID                 UI: Explicit VR Little Endian\n",
      "(0002,0012) Implementation Class UID            UI: 1.2.276.0.7230010.3.0.3.6.8\n",
      "(0002,0013) Implementation Version Name         SH: 'OFFIS_DCMTK_368'\n",
      "-------------------------------------------------\n",
      "(0008,0000) Group Length                        UL: 216\n",
      "(0008,0008) Image Type                          CS: ['ORIGINAL', 'PRIMARY', 'AXIAL']\n",
      "(0008,0016) SOP Class UID                       UI: CT Image Storage\n",
      "(0008,0018) SOP Instance UID                    UI: 1.2.276.0.7230010.3.1.4.296485632.1.1731597629.926147\n",
      "(0008,0020) Study Date                          DA: ''\n",
      "(0008,0023) Content Date                        DA: ''\n",
      "(0008,0030) Study Time                          TM: ''\n",
      "(0008,0033) Content Time                        TM: ''\n",
      "(0008,0050) Accession Number                    SH: ''\n",
      "(0008,0060) Modality                            CS: 'CT'\n",
      "(0008,0070) Manufacturer                        LO: 'TOSHIBA'\n",
      "(0008,0090) Referring Physician's Name          PN: ''\n",
      "(0008,1090) Manufacturer's Model Name           LO: 'Alexion'\n",
      "(0010,0000) Group Length                        UL: 96\n",
      "(0010,0010) Patient's Name                      PN: 'Anonymized458'\n",
      "(0010,0020) Patient ID                          LO: '3b34c84e-1233-4bcb-909d-b7b9f5d94688'\n",
      "(0010,0030) Patient's Birth Date                DA: ''\n",
      "(0010,0040) Patient's Sex                       CS: 'F'\n",
      "(0010,1010) Patient's Age                       AS: '088Y'\n",
      "(0012,0062) Patient Identity Removed            CS: 'YES'\n",
      "(0018,0000) Group Length                        UL: 406\n",
      "(0018,0015) Body Part Examined                  CS: 'HEAD'\n",
      "(0018,0022) Scan Options                        CS: 'HELICAL_CT'\n",
      "(0018,0050) Slice Thickness                     DS: '1.0'\n",
      "(0018,0060) KVP                                 DS: '120'\n",
      "(0018,0090) Data Collection Diameter            DS: '350.00'\n",
      "(0018,1020) Software Versions                   LO: 'V6.05ER007'\n",
      "(0018,1100) Reconstruction Diameter             DS: '255.664'\n",
      "(0018,1120) Gantry/Detector Tilt                DS: '+0.0'\n",
      "(0018,1130) Table Height                        DS: '+25.00'\n",
      "(0018,1140) Rotation Direction                  CS: 'CW'\n",
      "(0018,1150) Exposure Time                       IS: '750'\n",
      "(0018,1151) X-Ray Tube Current                  IS: '150'\n",
      "(0018,1152) Exposure                            IS: '112'\n",
      "(0018,1160) Filter Type                         SH: 'LARGE'\n",
      "(0018,1170) Generator Power                     IS: '18'\n",
      "(0018,1190) Focal Spot(s)                       DS: [1.1, 1.1]\n",
      "(0018,1210) Convolution Kernel                  SH: 'FC81'\n",
      "(0018,5100) Patient Position                    CS: 'HFS'\n",
      "(0018,9302) Acquisition Type                    CS: 'SPIRAL'\n",
      "(0018,9305) Revolution Time                     FD: 0.75\n",
      "(0018,9306) Single Collimation Width            FD: 1.0\n",
      "(0018,9307) Total Collimation Width             FD: 16.0\n",
      "(0018,9310) Table Feed per Rotation             FD: 11.0\n",
      "(0018,9311) Spiral Pitch Factor                 FD: 0.688\n",
      "(0018,9318) Reconstruction Target Center (Patie FD: [0.0, 0.0, -384.6]\n",
      "(0018,9327) Table Position                      FD: 142.4\n",
      "(0018,9334) Fluoroscopy Flag                    CS: 'NO'\n",
      "(0018,9345) CTDIvol                             FD: 37.7\n",
      "(0020,0000) Group Length                        UL: 396\n",
      "(0020,000D) Study Instance UID                  UI: 1.2.276.0.7230010.3.1.2.296485632.1.1731597629.926145\n",
      "(0020,000E) Series Instance UID                 UI: 1.2.276.0.7230010.3.1.3.296485632.1.1731597629.926146\n",
      "(0020,0010) Study ID                            SH: ''\n",
      "(0020,0011) Series Number                       IS: '4'\n",
      "(0020,0012) Acquisition Number                  IS: '2'\n",
      "(0020,0013) Instance Number                     IS: '179'\n",
      "(0020,0020) Patient Orientation                 CS: ['L', 'P']\n",
      "(0020,0032) Image Position (Patient)            DS: [-127.582, -115.9612, -384.60]\n",
      "(0020,0037) Image Orientation (Patient)         DS: [1.00000, 0.00000, 0.00000, 0.00000, 1.00000, 0.00000]\n",
      "(0020,0052) Frame of Reference UID              UI: 1.2.276.0.7230010.3.1.4.296485632.1.1731597629.926149\n",
      "(0020,1040) Position Reference Indicator        LO: ''\n",
      "(0020,1041) Slice Location                      DS: '+142.40'\n",
      "(0020,9056) Stack ID                            SH: '1_1122_00002'\n",
      "(0020,9057) In-Stack Position Number            UL: 179\n",
      "(0020,9128) Temporal Position Index             UL: 1\n",
      "(0028,0000) Group Length                        UL: 154\n",
      "(0028,0002) Samples per Pixel                   US: 1\n",
      "(0028,0004) Photometric Interpretation          CS: 'MONOCHROME2'\n",
      "(0028,0010) Rows                                US: 512\n",
      "(0028,0011) Columns                             US: 512\n",
      "(0028,0030) Pixel Spacing                       DS: [0.499, 0.499]\n",
      "(0028,0100) Bits Allocated                      US: 16\n",
      "(0028,0101) Bits Stored                         US: 16\n",
      "(0028,0102) High Bit                            US: 15\n",
      "(0028,0103) Pixel Representation                US: 1\n",
      "(0028,1050) Window Center                       DS: '450'\n",
      "(0028,1051) Window Width                        DS: '4500'\n",
      "(0028,1052) Rescale Intercept                   DS: '0'\n",
      "(0028,1053) Rescale Slope                       DS: '1'\n",
      "(0040,0000) Group Length                        UL: 0\n",
      "(7FE0,0010) Pixel Data                          OW: Array of 524288 elements\n"
     ]
    }
   ],
   "source": [
    "print(len(files))\n",
    "print(files[0])"
   ]
  },
  {
   "cell_type": "code",
   "execution_count": 11,
   "id": "6b661231",
   "metadata": {},
   "outputs": [
    {
     "name": "stdout",
     "output_type": "stream",
     "text": [
      "(512, 512)\n",
      "(262144,)\n",
      "1\n",
      "0\n"
     ]
    }
   ],
   "source": [
    "print(files[0].pixel_array.shape)\n",
    "print(files[0].pixel_array.flatten().shape)\n",
    "print(files[0].RescaleSlope)\n",
    "print(files[0].RescaleIntercept)"
   ]
  },
  {
   "cell_type": "markdown",
   "id": "8fb84bcf",
   "metadata": {},
   "source": [
    "plotting pixel dist"
   ]
  },
  {
   "cell_type": "code",
   "execution_count": 22,
   "id": "dac48845",
   "metadata": {},
   "outputs": [
    {
     "name": "stdout",
     "output_type": "stream",
     "text": [
      "1\n",
      "0\n",
      "1\n",
      "0\n",
      "1\n",
      "0\n",
      "1\n",
      "0\n",
      "1\n",
      "0\n"
     ]
    },
    {
     "data": {
      "text/plain": [
       "Text(0.5, 1.0, 'HU unit distributions for 5 examples')"
      ]
     },
     "execution_count": 22,
     "metadata": {},
     "output_type": "execute_result"
    },
    {
     "data": {
      "image/png": "[encoded data removed]",
      "text/plain": [
       "<Figure size 2000x500 with 2 Axes>"
      ]
     },
     "metadata": {},
     "output_type": "display_data"
    }
   ],
   "source": [
    "fig,axis = plt.subplots(1,2,figsize=(20,5))\n",
    "for i in range(10,15):\n",
    "    img= files[i].pixel_array.flatten()\n",
    "    print(files[i].RescaleSlope)\n",
    "    print(files[i].RescaleIntercept)\n",
    "    scaled = img * files[i].RescaleSlope + files[i].RescaleIntercept\n",
    "    sns.histplot(scaled.flatten(), ax = axis[0])\n",
    "    sns.histplot(img.flatten(), ax = axis[1])\n",
    "axis[1].set_title(\"Raw pixel array distributions for 5 examples\")\n",
    "axis[0].set_title(\"HU unit distributions for 5 examples\")"
   ]
  },
  {
   "cell_type": "markdown",
   "id": "9d6e096f",
   "metadata": {},
   "source": [
    "### examining the slope and intercept for all files"
   ]
  },
  {
   "cell_type": "code",
   "execution_count": null,
   "id": "701e063a",
   "metadata": {},
   "outputs": [
    {
     "name": "stdout",
     "output_type": "stream",
     "text": [
      "0\n",
      "-1024\n",
      "1\n"
     ]
    },
    {
     "data": {
      "text/plain": [
       "(2, 1)"
      ]
     },
     "execution_count": 25,
     "metadata": {},
     "output_type": "execute_result"
    }
   ],
   "source": [
    "inter = set()\n",
    "slope = set()\n",
    "cnt = 0\n",
    "for file in files:\n",
    "    inter.add(file.RescaleIntercept)\n",
    "    if file.RescaleIntercept:\n",
    "        cnt+=1\n",
    "    slope.add(file.RescaleSlope)\n",
    "\n",
    "[print(i) for i in inter]\n",
    "[print(i) for i in slope]\n",
    "len(inter), len(slope)"
   ]
  },
  {
   "cell_type": "code",
   "execution_count": 26,
   "id": "80cdfb0e",
   "metadata": {},
   "outputs": [
    {
     "data": {
      "text/plain": [
       "{'CT'}"
      ]
     },
     "execution_count": 26,
     "metadata": {},
     "output_type": "execute_result"
    }
   ],
   "source": [
    "set(ds.Modality for ds in files)\n"
   ]
  },
  {
   "cell_type": "markdown",
   "id": "f8778f72",
   "metadata": {},
   "source": [
    "for file i"
   ]
  }
 ],
 "metadata": {
  "kernelspec": {
   "display_name": "venv",
   "language": "python",
   "name": "python3"
  },
  "language_info": {
   "codemirror_mode": {
    "name": "ipython",
    "version": 3
   },
   "file_extension": ".py",
   "mimetype": "text/x-python",
   "name": "python",
   "nbconvert_exporter": "python",
   "pygments_lexer": "ipython3",
   "version": "3.10.12"
  }
 },
 "nbformat": 4,
 "nbformat_minor": 5
}
